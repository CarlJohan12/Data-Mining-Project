{
 "cells": [
  {
   "cell_type": "code",
   "execution_count": 66,
   "metadata": {},
   "outputs": [],
   "source": [
    "import pandas as pd\n",
    "import numpy as np "
   ]
  },
  {
   "cell_type": "code",
   "execution_count": 67,
   "metadata": {},
   "outputs": [
    {
     "name": "stderr",
     "output_type": "stream",
     "text": [
      "<ipython-input-67-ccfb611e7535>:13: DtypeWarning: Columns (6,22,23,24,36,38,102,103,104,105,109,110,111,117,119,125,126,127,128,132,133,135,136,137,138,139,140,141,142,143,144,145,146,147,148,149,150,151,152,153,154,155,156,157,158,159,160,161,162,163,164,165,166,167,168,169,170,171,172,173,174,175,176,177,178,179,180,181,182,183,184,185,186,187,188,189,190,191,192,193,194,195,196,197,198,199,200,201,202,203,204,205,206,207,208,209,210,211,212,213,215,216,217,218,219,220,221,222,223,224,225,226,227,228,229,230,231,232,233,234,235,236,237,238,240,241,242,243,244,245,247,248,249,250,251,253,254,255,256,258,259,260,261,262,263,264,265,266,267,268,269,270,271,272,273,274,275,276,277,278,279,280,281,282,283,284,285,286,287,288,289,291,292,293,294,295,296,297,298,299,300,301,302,303,304,305,306,307,308,309,310,311,312,313,314,315,316,317,318,319,320,321,322,323,324,325,326,327,328,329,330,331,332,333,334,335,336,337,338,339,340,341,342,343,344,345,346,347,348,349,350,351,352,353,354,355,356,357,358,359,360,361,362,363,364,365,366,367,368,369,370,371,372,373,374,375,376,377,378,379,380,381,382,383,384,385,386,387,388,389,390,391,392,393,394,395,396,397,398,399,400,401,402,403,404,405,406,407,408,409,410,411,412,413,414,415,416,417,418,419,420,421,422,423,424,425,426,427,428,429,430,431,432,433,434,435,436,440,441,447,451,452,453,454,455,456,457,458,459,460,461,464,465,466,467,468,472,473,474,478,479,480,481,482,485,486,487,488,489,490,491,492,493,494,495,496,497,498,499,500,501,502,504,505,506,507,508,509,510,511,512,513,514,515,516,517,518,519,520,521,522,523,524,526,527,528,529,530,531,532,533,534,535,536,537,538,539,540,541,543,544,545,547,548,549,550,551,552,553,555,556,557,558,559,560,561,565,566,568,571,572,574,575,576,577,579,580,610,624,625,626,628,629,630,631,632,633,635,637,638,643,644,646,647,648,649,650,651,652,653,654,659,662,663,665,667,668,669,670,672,674,675,676,680,681,682,683,684,685,686,688,691,692,697,698,699,700,701,716,717,718,720,723,724,729,730,731,732,733,734,735,736,737,738,741,742,745,746,747,748,749,750,751,752,753,754,755,756,757,758,759,760,761,762,763,764,765,766,767,768,769,770,771,772,773,774,776,777,778,781,782,783,785,792,796,797,798,799,801,802,803,804,805,806,809,810,811,812,813,819,822,823,824,825,826,829,830,831,832,833,834,835,836,837,838,839,840,841,842,843,844,845,846,847,848,849,850,851,852,853,854,855,856,857,858,859,860,861,862,863,864,865,866,867,868,869,870,871,872,873,874,875,876,877,878,879,880,881,882,883,884,885,886,887,888,890,891,892,893,894,895,897,899,900,901,902,903,904,905,906,909,910,911,912,913,914,915,916,917,918,919,920,921,922,923,924,925,926,927,928,929,930,932,934,936,937,944,948,949,950,952,953,955,956,957,958,959,960,961,962,963,964,965,966,967,968,969,970,971,972,973,974,975,976,978,979,980,981,982,987,988,989,990,991,992,993,994,995,996,997,998,999,1000,1001,1003,1004,1005,1007,1008,1009,1010,1011,1012,1013,1014,1015,1016,1017,1018,1019,1020,1021,1022,1023,1024,1025,1026,1027,1028,1029,1030,1031,1032,1033,1034,1035,1036,1037,1038,1039,1040,1041,1042,1043,1044,1045,1046,1047,1048,1049,1050,1051,1052,1053,1054,1055,1056,1057,1058,1059,1060,1061,1062,1063,1064,1065,1066,1067,1068,1069,1070,1071,1072,1073,1074,1075,1076,1077,1078,1079,1080,1081,1082,1083,1084,1085,1086,1087,1088,1089,1090,1091,1092,1093,1094,1095,1096,1097,1098,1099,1100,1101,1102,1103,1104,1105,1106,1107,1108,1109,1110,1111,1112,1113,1114,1115,1116,1117,1118,1119,1120,1121,1122,1123,1124,1125,1126,1127,1128,1129,1130,1134,1135,1136,1137,1141,1142,1143,1145,1146,1147,1148,1149,1155,1156,1157,1158,1159,1160,1164,1165,1169,1172,1173,1174,1176,1177,1179,1181,1183,1190,1191,1194,1201,1202,1203,1217,1220,1222,1223,1226,1310,1430,1431,1432,1435,1436,1437,1440,1441,1444,1445,1446,1451,1452,1456,1466,1467,1469,1473,1474,1475,1476,1477,1478,1479,1480,1481,1483,1484,1485,1486,1488,1489,1490,1491,1492,1498,1499,1500,1501,1502,1503,1507,1508,1512,1515,1516,1517,1519,1520,1522,1524,1526,1533,1534,1537,1544,1545,1546,1560,1563,1565,1566,1567,1569,1653,1654,1697,1710,1713,1745,1758,1774,1775,1776,1779,1780,1781,1784,1785,1788,1789,1790,1795,1796,1800,1810,1811,1813,2550,2551,2552,2557,2558,2559,2565,2567,2573,2574,2575,2576,2580,2581,2583,2584,2585,2586,2587,2588,2589,2590,2591,2592,2593,2594,2595,2596,2597,2598,2599,2600,2601,2602,2603,2604,2605,2606,2607,2608,2609,2610,2611,2612,2613,2614,2615,2616,2617,2618,2619,2620,2621,2622,2623,2624,2625,2626,2627,2628,2629,2630,2631,2632,2633,2634,2635,2636,2637,2638,2639,2640,2641,2642,2643,2644,2645,2646,2647,2648,2649,2650,2651,2652,2653,2654,2655,2656,2657,2658,2659,2660,2661,2663,2664,2665,2666,2667,2668,2669,2670,2671,2672,2673,2674,2675,2676,2677,2678,2679,2680,2681,2682,2683,2684,2685,2686,2688,2689,2690,2691,2692,2693,2695,2696,2697,2698,2699,2701,2702,2703,2704,2705,2706,2707,2708,2709,2710,2711,2712,2713,2714,2715,2716,2717,2718,2719,2720,2721,2722,2723,2724,2725,2726,2727,2728,2729,2730,2731,2732,2733,2734,2735,2736,2737,2739,2740,2741,2742,2743,2744,2745,2746,2747,2748,2749,2750,2751,2752,2753,2754,2755,2756,2757,2758,2759,2760,2761,2762,2763,2764,2765,2766,2767,2768,2769,2770,2771,2772,2773,2774,2775,2776,2777,2778,2779,2780,2781,2782,2783,2784,2785,2786,2787,2788,2789,2790,2791,2792,2793,2794,2795,2796,2797,2798,2799,2800,2801,2802,2803,2804,2805,2806,2807,2808,2809,2810,2811,2812,2813,2814,2815,2816,2817,2818,2819,2820,2821,2822,2823,2824,2825,2826,2827,2828,2829,2830,2831,2832,2833,2834,2835,2836,2837,2838,2839,2840,2841,2842,2843,2844,2845,2846,2847,2848,2849,2850,2851,2852,2853,2854,2855,2856,2857,2858,2859,2860,2861,2862,2863,2864,2865,2866,2867,2868,2869,2870,2871,2872,2873,2874,2875,2876,2877,2878,2879,2880,2882,2883,2884,2891,2895,2896,2897,2898,2899,2900,2901,2902,2903,2904,2905,2908,2909,2910,2911,2912,2916,2917,2918,2922,2923,2924,2925,2926,2929,2930,2931,2932,2933,2934,2935,2936,2937,2938,2939,2940,2941,2942,2943,2944,2945,2946,2948,2949,2950,2951,2952,2953,2954,2955,2956,2957,2958,2959,2960,2961,2962,2963,2964,2965,2966,2967,2968,2970,2971,2972,2973,2974,2975,2976,2977,2978,2979,2980,2981,2982,2983,2984,2985,2987,2988,2989,2991,2992,2993,2994,2995,2996,2997,2999,3000,3001,3002,3003,3004,3005,3009,3010,3011,3012,3015,3016,3018,3019,3020,3021,3023,3024,3054,3068,3069,3070,3072,3073,3074,3075,3076,3077,3079,3081,3082,3087,3088,3090,3091,3092,3093,3094,3095,3096,3097,3098,3103,3106,3107,3109,3111,3112,3113,3114,3116,3118,3119,3120,3124,3125,3126,3127,3128,3129,3130,3132,3134,3135,3136,3141,3142,3143,3144,3145,3160,3161,3162,3164,3167,3168,3173,3174,3175,3176,3177,3178,3179,3180,3181,3182,3185,3186,3189,3190,3191,3192,3193,3194,3195,3196,3197,3198,3199,3200,3201,3202,3203,3204,3205,3206,3207,3208,3209,3210,3211,3212,3213,3214,3215,3216,3217,3218,3220,3221,3222,3225,3226,3227,3229,3236,3240,3241,3242,3243,3245,3247,3248,3249,3250,3253,3254,3255,3256,3257,3263,3266,3267,3268,3269,3270,3273,3274,3275,3276,3277,3278,3279,3280,3281,3282,3283,3284,3285,3286,3287,3288,3289,3290,3291,3292,3293,3294,3295,3296,3297,3298,3299,3300,3301,3302,3303,3304,3305,3306,3307,3308,3309,3310,3311,3312,3313,3314,3315,3316,3317,3318,3319,3320,3321,3322,3323,3324,3325,3326,3327,3328,3329,3330,3331,3332,3334,3335,3336,3337,3338,3339,3340,3341,3343,3344,3345,3346,3347,3348,3349,3350,3353,3354,3355,3356,3357,3358,3359,3360,3361,3362,3363,3364,3365,3366,3367,3368,3369,3370,3371,3372,3373,3374,3376,3378,3380,3381,3388,3391,3392,3393,3394,3396,3397,3399,3400,3401,3402,3403,3404,3405,3406,3407,3408,3409,3410,3411,3412,3413,3414,3415,3416,3417,3418,3419,3420,3422,3423,3424,3425,3426,3431,3432,3433,3434,3435,3436,3437,3438,3439,3440,3441,3442,3443,3444,3445,3447,3448,3449,3451,3452,3453,3454,3455,3456,3457,3458,3459,3460,3461,3462,3463,3464,3465,3466,3467,3468,3469,3470,3471,3472,3473,3474,3475,3476,3477,3478,3479,3480,3481,3482,3483,3484,3485,3486,3487,3488,3489,3490,3491,3492,3493,3494,3495,3496,3497,3498,3499,3500,3501,3502,3503,3504,3505,3506,3507,3508,3509,3510,3511,3512,3513,3514,3515,3516,3517,3518,3519,3520,3521,3522,3523,3524,3525,3526,3527,3528,3529,3530,3531,3532,3533,3534,3535,3536,3537,3538,3539,3540,3541,3542,3543,3544,3545,3546,3547,3548,3549,3550,3551,3552,3553,3554,3555,3556,3557,3558,3559,3560,3561,3562,3563,3564,3565,3566,3567,3568,3569,3570,3571,3572,3573,3574,3578,3579,3580,3581,3582,3583,3584,3585,3588,3589,3590,3591,3593,3594,3595,3596,3597,3603,3604,3605,3606,3607,3608,3612,3613,3617,3620,3621,3622,3624,3625,3627,3629,3631,3638,3639,3642,3649,3650,3651,3665,3668,3670,3671,3674,3758,3879,3880,3881,3884,3885,3886,3889,3890,3893,3894,3895,3900,3901,3905,3915,3916,3918) have mixed types. Specify dtype option on import or set low_memory=False.\n",
      "  ghed_df = pd.read_csv(\"GHED_data.csv\", delimiter=\",\")\n"
     ]
    },
    {
     "name": "stdout",
     "output_type": "stream",
     "text": [
      "                         Indicator Name  Cancer Type  Year Country Name  \\\n",
      "0  Diabetes age-standardized death rate          NaN  2019          NaN   \n",
      "1  Diabetes age-standardized death rate          NaN  2019          NaN   \n",
      "2  Diabetes age-standardized death rate          NaN  2019          NaN   \n",
      "3  Diabetes age-standardized death rate          NaN  2019  Afghanistan   \n",
      "4  Diabetes age-standardized death rate          NaN  2019  Afghanistan   \n",
      "\n",
      "                         Region   Gender  Area      Numeric  \\\n",
      "0                        Global    Total   NaN  23.19100899   \n",
      "1                        Global    Males   NaN  25.44080513   \n",
      "2                        Global  Females   NaN  21.29480105   \n",
      "3  Eastern Mediterranean Region    Total   NaN  57.92835787   \n",
      "4  Eastern Mediterranean Region    Males   NaN  39.56731078   \n",
      "\n",
      "  Lower Confidence Limit Upper Confidence Limit  Comment  Unnamed: 11  \n",
      "0                no data                no data      NaN          NaN  \n",
      "1                no data                no data      NaN          NaN  \n",
      "2                no data                no data      NaN          NaN  \n",
      "3                no data                no data      NaN          NaN  \n",
      "4                no data                no data      NaN          NaN  \n"
     ]
    }
   ],
   "source": [
    "\n",
    "#column_names = [\n",
    "#    \"Indicator Name\", \"Cancer Type\", \"Year\", \"Country Name\", \"Region\", \n",
    "#    \"Gender\", \"Area\", \"Numeric\", \"Lower Confidence Limit\", \n",
    "#    \"Upper Confidence Limit\", \"Comment\"\n",
    "#]\n",
    "\n",
    "#diabetes_df = pd.read_csv('Diabetes.csv', header=None, skiprows=1, names=column_names)\n",
    "\n",
    "diabetes_df = pd.read_csv('Diabetes.csv', delimiter=\",\")\n",
    "\n",
    "\n",
    "\n",
    "ghed_df = pd.read_csv(\"GHED_data.csv\", delimiter=\",\")\n",
    "inactivity_df = pd.read_csv(\"Physical inactivity.csv\", delimiter=\",\")\n",
    "\n",
    "print(diabetes_df.head())\n"
   ]
  },
  {
   "cell_type": "code",
   "execution_count": 68,
   "metadata": {},
   "outputs": [
    {
     "name": "stdout",
     "output_type": "stream",
     "text": [
      "                         Indicator Name  Cancer Type  Year Country Name  \\\n",
      "0  Physical inactivity, adults aged 18+          NaN  2022          NaN   \n",
      "1  Physical inactivity, adults aged 18+          NaN  2022          NaN   \n",
      "2  Physical inactivity, adults aged 18+          NaN  2022          NaN   \n",
      "3  Physical inactivity, adults aged 18+          NaN  2022  Afghanistan   \n",
      "4  Physical inactivity, adults aged 18+          NaN  2022  Afghanistan   \n",
      "\n",
      "                         Region   Gender  Area    Numeric  \\\n",
      "0                        Global    Total   NaN  31.265667   \n",
      "1                        Global    Males   NaN  28.735479   \n",
      "2                        Global  Females   NaN  33.795738   \n",
      "3  Eastern Mediterranean Region    Total   NaN  33.356445   \n",
      "4  Eastern Mediterranean Region    Males   NaN  20.019466   \n",
      "\n",
      "  Lower Confidence Limit Upper Confidence Limit  Comment  Unnamed: 11  \n",
      "0               28.57692              33.992661      NaN          NaN  \n",
      "1              24.964621              32.561256      NaN          NaN  \n",
      "2              29.906904              37.664982      NaN          NaN  \n",
      "3              23.042757              44.224697      NaN          NaN  \n",
      "4              9.8748446              33.071007      NaN          NaN  \n"
     ]
    }
   ],
   "source": [
    "print(inactivity_df.head())"
   ]
  },
  {
   "cell_type": "code",
   "execution_count": 69,
   "metadata": {},
   "outputs": [
    {
     "name": "stdout",
     "output_type": "stream",
     "text": [
      "indicator name             object\n",
      "cancer type               float64\n",
      "year                        int64\n",
      "country name               object\n",
      "region                     object\n",
      "gender                     object\n",
      "area                      float64\n",
      "numeric                    object\n",
      "lower confidence limit     object\n",
      "upper confidence limit     object\n",
      "comment                   float64\n",
      "unnamed: 11               float64\n",
      "dtype: object\n",
      "country name           object\n",
      "code                   object\n",
      "region                 object\n",
      "income                 object\n",
      "year                    int64\n",
      "                       ...   \n",
      "hk_ext_usd2021_pc      object\n",
      "hk_pvtd_usd2021_pc    float64\n",
      "gdp_usd2021_pc         object\n",
      "pfc_usd2021_pc         object\n",
      "gge_usd2021_pc         object\n",
      "Length: 3923, dtype: object\n",
      "indicator name             object\n",
      "cancer type               float64\n",
      "year                        int64\n",
      "country name               object\n",
      "region                     object\n",
      "gender                     object\n",
      "area                      float64\n",
      "numeric                    object\n",
      "lower confidence limit     object\n",
      "upper confidence limit     object\n",
      "comment                   float64\n",
      "unnamed: 11               float64\n",
      "dtype: object\n"
     ]
    }
   ],
   "source": [
    "# Standardize the column names by converting them to lowercase\n",
    "diabetes_df.columns = diabetes_df.columns.str.replace('\"', '').str.strip()\n",
    "inactivity_df.columns = inactivity_df.columns.str.replace('\"', '').str.strip()\n",
    "diabetes_df.columns = diabetes_df.columns.str.lower()\n",
    "ghed_df.columns = ghed_df.columns.str.lower()\n",
    "inactivity_df.columns = inactivity_df.columns.str.lower()\n",
    "\n",
    "ghed_df = ghed_df.rename(columns={\"country\": \"country name\"})\n",
    "\n",
    "# Check the column names again\n",
    "\n",
    "\n",
    "print(inactivity_df.dtypes)\n",
    "print(ghed_df.dtypes)\n",
    "print(diabetes_df.dtypes)\n",
    "\n"
   ]
  },
  {
   "cell_type": "code",
   "execution_count": 70,
   "metadata": {},
   "outputs": [
    {
     "name": "stdout",
     "output_type": "stream",
     "text": [
      "Inactivity DataFrame unique values:\n",
      "                country name  year\n",
      "0                        NaN  2022\n",
      "3                Afghanistan  2022\n",
      "6             African Region  2022\n",
      "9                    Albania  2022\n",
      "12                   Algeria  2022\n",
      "...                      ...   ...\n",
      "1014                Viet Nam  2016\n",
      "1017  Western Pacific Region  2016\n",
      "1020                   Yemen  2016\n",
      "1023                  Zambia  2016\n",
      "1026                Zimbabwe  2016\n",
      "\n",
      "[343 rows x 2 columns]\n",
      "\n",
      "GHED DataFrame unique values:\n",
      "     country name  year\n",
      "0         Algeria  2000\n",
      "1         Algeria  2001\n",
      "2         Algeria  2002\n",
      "3         Algeria  2003\n",
      "4         Algeria  2004\n",
      "...           ...   ...\n",
      "4239     Viet Nam  2017\n",
      "4240     Viet Nam  2018\n",
      "4241     Viet Nam  2019\n",
      "4242     Viet Nam  2020\n",
      "4243     Viet Nam  2021\n",
      "\n",
      "[4244 rows x 2 columns]\n",
      "\n",
      "Diabetes DataFrame unique values:\n",
      "                country name  year\n",
      "0                        NaN  2019\n",
      "3                Afghanistan  2019\n",
      "6             African Region  2019\n",
      "9                    Albania  2019\n",
      "12                   Algeria  2019\n",
      "...                      ...   ...\n",
      "1797                Viet Nam  2014\n",
      "1800  Western Pacific Region  2014\n",
      "1803                   Yemen  2014\n",
      "1806                  Zambia  2014\n",
      "1809                Zimbabwe  2014\n",
      "\n",
      "[403 rows x 2 columns]\n"
     ]
    }
   ],
   "source": [
    "print(\"Inactivity DataFrame unique values:\")\n",
    "print(inactivity_df[['country name', 'year']].drop_duplicates())\n",
    "\n",
    "print(\"\\nGHED DataFrame unique values:\")\n",
    "print(ghed_df[['country name', 'year']].drop_duplicates())\n",
    "\n",
    "print(\"\\nDiabetes DataFrame unique values:\")\n",
    "print(diabetes_df[['country name', 'year']].drop_duplicates())\n"
   ]
  },
  {
   "cell_type": "code",
   "execution_count": 71,
   "metadata": {},
   "outputs": [],
   "source": [
    "# Strip whitespace from the 'country name' column\n",
    "inactivity_df['country name'] = inactivity_df['country name'].str.strip()\n",
    "ghed_df['country name'] = ghed_df['country name'].str.strip()\n",
    "diabetes_df['country name'] = diabetes_df['country name'].str.strip()\n"
   ]
  },
  {
   "cell_type": "code",
   "execution_count": 72,
   "metadata": {},
   "outputs": [
    {
     "name": "stdout",
     "output_type": "stream",
     "text": [
      "Null values in Inactivity DataFrame:\n",
      "country name    6\n",
      "year            0\n",
      "dtype: int64\n",
      "\n",
      "Null values in GHED DataFrame:\n",
      "country name    0\n",
      "year            0\n",
      "dtype: int64\n",
      "\n",
      "Null values in Diabetes DataFrame:\n",
      "country name    9\n",
      "year            0\n",
      "dtype: int64\n"
     ]
    }
   ],
   "source": [
    "print(\"Null values in Inactivity DataFrame:\")\n",
    "print(inactivity_df[['country name', 'year']].isnull().sum())\n",
    "\n",
    "print(\"\\nNull values in GHED DataFrame:\")\n",
    "print(ghed_df[['country name', 'year']].isnull().sum())\n",
    "\n",
    "print(\"\\nNull values in Diabetes DataFrame:\")\n",
    "print(diabetes_df[['country name', 'year']].isnull().sum())\n",
    "\n",
    "\n"
   ]
  },
  {
   "cell_type": "code",
   "execution_count": 75,
   "metadata": {},
   "outputs": [],
   "source": [
    "inactivity_df = inactivity_df.dropna(subset=['country name'])\n",
    "diabetes_df = diabetes_df.dropna(subset=['country name'])\n"
   ]
  },
  {
   "cell_type": "code",
   "execution_count": 77,
   "metadata": {},
   "outputs": [
    {
     "name": "stdout",
     "output_type": "stream",
     "text": [
      "                       indicator name_x  cancer type_x  year_x country name  \\\n",
      "0  Physical inactivity, adults aged 18+            NaN    2022  Afghanistan   \n",
      "1  Physical inactivity, adults aged 18+            NaN    2022  Afghanistan   \n",
      "2  Physical inactivity, adults aged 18+            NaN    2022  Afghanistan   \n",
      "3  Physical inactivity, adults aged 18+            NaN    2022  Afghanistan   \n",
      "4  Physical inactivity, adults aged 18+            NaN    2022  Afghanistan   \n",
      "\n",
      "                         region gender_x  area_x  numeric_x  \\\n",
      "0  Eastern Mediterranean Region    Total     NaN  33.356445   \n",
      "1  Eastern Mediterranean Region    Total     NaN  33.356445   \n",
      "2  Eastern Mediterranean Region    Total     NaN  33.356445   \n",
      "3  Eastern Mediterranean Region    Total     NaN  33.356445   \n",
      "4  Eastern Mediterranean Region    Total     NaN  33.356445   \n",
      "\n",
      "  lower confidence limit_x upper confidence limit_x  ...  \\\n",
      "0                23.042757                44.224697  ...   \n",
      "1                23.042757                44.224697  ...   \n",
      "2                23.042757                44.224697  ...   \n",
      "3                23.042757                44.224697  ...   \n",
      "4                23.042757                44.224697  ...   \n",
      "\n",
      "                                    indicator name_y  cancer type_y year_y  \\\n",
      "0               Diabetes age-standardized death rate            NaN   2019   \n",
      "1               Diabetes age-standardized death rate            NaN   2019   \n",
      "2               Diabetes age-standardized death rate            NaN   2019   \n",
      "3  Percentage of diabetes deaths occurring under ...            NaN   2019   \n",
      "4  Percentage of diabetes deaths occurring under ...            NaN   2019   \n",
      "\n",
      "   gender_y  area_y    numeric_y  lower confidence limit_y  \\\n",
      "0     Total     NaN  57.92835787                   no data   \n",
      "1     Males     NaN  39.56731078                   no data   \n",
      "2   Females     NaN  74.82570433                   no data   \n",
      "3     Total     NaN  65.79073121                   no data   \n",
      "4     Males     NaN  66.24637381                   no data   \n",
      "\n",
      "  upper confidence limit_y comment_y unnamed: 11_y  \n",
      "0                  no data       NaN           NaN  \n",
      "1                  no data       NaN           NaN  \n",
      "2                  no data       NaN           NaN  \n",
      "3                  no data       NaN           NaN  \n",
      "4                  no data       NaN           NaN  \n",
      "\n",
      "[5 rows x 22 columns]\n",
      "Number of rows after merge: 9153\n"
     ]
    }
   ],
   "source": [
    "merged_df = pd.merge(inactivity_df, diabetes_df, on=['country name', 'region'], how='inner')\n",
    "print(merged_df.head())\n",
    "\n",
    "print(\"Number of rows after merge:\", merged_df.shape[0])\n"
   ]
  }
 ],
 "metadata": {
  "kernelspec": {
   "display_name": "Python 3",
   "language": "python",
   "name": "python3"
  },
  "language_info": {
   "codemirror_mode": {
    "name": "ipython",
    "version": 3
   },
   "file_extension": ".py",
   "mimetype": "text/x-python",
   "name": "python",
   "nbconvert_exporter": "python",
   "pygments_lexer": "ipython3",
   "version": "3.8.10"
  }
 },
 "nbformat": 4,
 "nbformat_minor": 2
}
